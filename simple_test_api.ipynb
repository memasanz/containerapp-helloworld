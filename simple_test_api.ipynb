{
 "cells": [
  {
   "cell_type": "markdown",
   "id": "b4204bfb",
   "metadata": {},
   "source": [
    "# Container App Authentication with Client Credentials Flow\n",
    "\n",
    "1. Web App Configuration\n",
    "-  On Container App - Set Easy Auth\n",
    "-  Add /.default to allowed toekn audiences api://<client-id>/.default\n",
    "- Save and Re-open add\n",
    "  - Allow from Specifc Client Applcations\n",
    "  - Alllow any Identity\n",
    "\n",
    "2.  ON App Registration for Web App Client Id\n",
    "- In \"API Permissions\" Grant ADmin Content\n",
    "- On Expose an API - Add client application\n",
    "\n",
    "3.  On Enterprise Application -> Permsisions \"Grant Admin Content\" \n",
    "- This will enable it to show up in next step\n",
    "\n",
    "4.  ON App Registration that makes API call\n",
    "- Add permission"
   ]
  },
  {
   "cell_type": "code",
   "execution_count": 99,
   "id": "a230d5d3",
   "metadata": {},
   "outputs": [],
   "source": [
    "import requests\n",
    "import os\n",
    "from dotenv import load_dotenv\n",
    "import json\n",
    "from pprint import pprint\n",
    "\n",
    "# Azure Identity library for client credentials authentication\n",
    "from azure.identity import ClientSecretCredential"
   ]
  },
  {
   "cell_type": "markdown",
   "id": "2565cf1a",
   "metadata": {},
   "source": [
    "## 2. Set API Configuration\n",
    "\n",
    "Define the API endpoint URL for your Container App."
   ]
  },
  {
   "cell_type": "code",
   "execution_count": null,
   "id": "ea3e28d4",
   "metadata": {},
   "outputs": [],
   "source": [
    "# Load configuration from .env file if it exists\n",
    "load_dotenv(override=True)\n",
    "\n",
    "# API Configuration\n",
    "# Replace this URL with your actual Container App URL\n",
    "API_URL = os.getenv(\"API_URL\", \"webapp\")\n",
    "API_ENDPOINT = f\"{API_URL}/hello\"\n",
    "\n",
    "print(f\"API URL: {API_URL}\")\n",
    "print(f\"API Endpoint: {API_ENDPOINT}\")"
   ]
  },
  {
   "cell_type": "code",
   "execution_count": null,
   "id": "6e03ac12",
   "metadata": {},
   "outputs": [],
   "source": [
    "import os\n",
    "def get_token_client_credentials():\n",
    "    \"\"\"\n",
    "    Get a token using client credentials flow (no browser required).\n",
    "    For this to work, you need to set CLIENT_SECRET in your .env file or environment variables.\n",
    "    \"\"\"\n",
    "    # Load the client secret from environment variables\n",
    "    caller_client_id = os.getenv(\"CALLER_CLIENT_ID\") # Client app that's making the API call\n",
    "    client_secret = os.getenv(\"CALLER_CLIENT_SECRET\") # From .env\n",
    "\n",
    "    app_id = os.getenv(\"APP_ID\") # Target API app ID\n",
    "    tenant_id = os.getenv(\"TENANT_ID\") # From .env\n",
    "\n",
    "    try:\n",
    "        # Create credential with client secret\n",
    "        credential = ClientSecretCredential(\n",
    "            tenant_id=tenant_id,\n",
    "            client_id=caller_client_id,\n",
    "            client_secret=client_secret\n",
    "        )\n",
    "        \n",
    "        # Use the scope from Azure portal WITH /.default suffix (required for client credentials)\n",
    "        scope = f\"api://{app_id}/.default\"\n",
    "        print(f\"Requesting token for scope: {scope}\")\n",
    "        \n",
    "        token = credential.get_token(scope)\n",
    "        print(f\"✅ Successfully obtained access token using client credentials\")\n",
    "        return token.token, credential\n",
    "    except Exception as e:\n",
    "        print(f\"❌ Error obtaining token: {str(e)}\")\n",
    "        return None, None\n",
    "\n",
    "# Execute the client credentials flow\n",
    "print(\"Trying client credentials flow...\")\n",
    "token, credential = get_token_client_credentials()\n",
    "\n",
    "# Display token information\n",
    "if token:\n",
    "    print(f\"Token obtained via client credentials (first 20 chars): {token[:20]}...\")\n",
    "else:\n",
    "    print(\"Failed to obtain token via client credentials\")"
   ]
  },
  {
   "cell_type": "code",
   "execution_count": 102,
   "id": "4a559786",
   "metadata": {},
   "outputs": [
    {
     "name": "stdout",
     "output_type": "stream",
     "text": [
      "Calling API with standard OAuth2 header: https://web-aca-app2.wittypebble-5a8d3c4d.eastus2.azurecontainerapps.io/hello\n",
      "Status Code: 200\n",
      "✅ Success!\n",
      "API Response:\n",
      "{'message': 'Hello, welcome to FastAPI!'}\n",
      "Status Code: 200\n",
      "✅ Success!\n",
      "API Response:\n",
      "{'message': 'Hello, welcome to FastAPI!'}\n"
     ]
    }
   ],
   "source": [
    "# Simple example of calling an API with just the standard OAuth2 header\n",
    "def simple_api_call(endpoint, token):\n",
    "    \"\"\"\n",
    "    Simple function to call an API with the standard OAuth2 Bearer token header\n",
    "    \"\"\"\n",
    "    # Standard OAuth2 header - the most common approach\n",
    "    headers = {\n",
    "        \"Authorization\": f\"Bearer {token}\",\n",
    "        \"Content-Type\": \"application/json\"\n",
    "    }\n",
    "    \n",
    "    print(f\"Calling API with standard OAuth2 header: {endpoint}\")\n",
    "    try:\n",
    "        response = requests.get(endpoint, headers=headers)\n",
    "        print(f\"Status Code: {response.status_code}\")\n",
    "        \n",
    "        if response.status_code == 200:\n",
    "            print(\"✅ Success!\")\n",
    "            return response.json()\n",
    "        else:\n",
    "            print(f\"❌ Failed with status code: {response.status_code}\")\n",
    "            print(response.text)\n",
    "            return None\n",
    "    except Exception as e:\n",
    "        print(f\"Error: {str(e)}\")\n",
    "        return None\n",
    "\n",
    "#You can uncomment this to try just the standard header approach\n",
    "if token:\n",
    "    result = simple_api_call(API_ENDPOINT, token)\n",
    "    if result:\n",
    "        print(\"API Response:\")\n",
    "        pprint(result)"
   ]
  },
  {
   "cell_type": "code",
   "execution_count": null,
   "id": "ae4cd914",
   "metadata": {},
   "outputs": [],
   "source": []
  }
 ],
 "metadata": {
  "kernelspec": {
   "display_name": ".venv",
   "language": "python",
   "name": "python3"
  },
  "language_info": {
   "codemirror_mode": {
    "name": "ipython",
    "version": 3
   },
   "file_extension": ".py",
   "mimetype": "text/x-python",
   "name": "python",
   "nbconvert_exporter": "python",
   "pygments_lexer": "ipython3",
   "version": "3.13.7"
  }
 },
 "nbformat": 4,
 "nbformat_minor": 5
}
